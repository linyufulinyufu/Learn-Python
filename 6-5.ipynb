{
 "cells": [
  {
   "cell_type": "code",
   "execution_count": 4,
   "metadata": {},
   "outputs": [
    {
     "name": "stdout",
     "output_type": "stream",
     "text": [
      "1911\n"
     ]
    }
   ],
   "source": [
    "len = input(\"len\")\n",
    "kooa = input(\"kooa\")\n",
    "len,kooa = int\n",
    "len * kooa"
   ]
  },
  {
   "cell_type": "code",
   "execution_count": 20,
   "metadata": {},
   "outputs": [
    {
     "name": "stdout",
     "output_type": "stream",
     "text": [
      "very old\n"
     ]
    }
   ],
   "source": [
    "age = input(\"age\")\n",
    "age = int(age)\n",
    "if (age)<18:\n",
    "    print(\"young\")\n",
    "elif (age)>18 and (age)<65:\n",
    "    print(\"adults\")\n",
    "elif(age)>65 and (age)<80:\n",
    "    print(\"old\")\n",
    "elif(age)>80 and (age)<130:\n",
    "    print(\"very old\")\n",
    "else :\n",
    "    print(\"young and adults\")\n"
   ]
  },
  {
   "cell_type": "code",
   "execution_count": 25,
   "metadata": {},
   "outputs": [
    {
     "data": {
      "text/plain": [
       "0.0015976331360946746"
      ]
     },
     "execution_count": 25,
     "metadata": {},
     "output_type": "execute_result"
    }
   ],
   "source": [
    "height = input(\"height\")\n",
    "weight = input(\"weight\")\n",
    "height , weight = int(height), int (weight)\n",
    "weight/height**2\n",
    "\n"
   ]
  }
 ],
 "metadata": {
  "interpreter": {
   "hash": "aee8b7b246df8f9039afb4144a1f6fd8d2ca17a180786b69acc140d282b71a49"
  },
  "kernelspec": {
   "display_name": "Python 3.9.10 64-bit",
   "language": "python",
   "name": "python3"
  },
  "language_info": {
   "codemirror_mode": {
    "name": "ipython",
    "version": 3
   },
   "file_extension": ".py",
   "mimetype": "text/x-python",
   "name": "python",
   "nbconvert_exporter": "python",
   "pygments_lexer": "ipython3",
   "version": "3.9.10"
  },
  "orig_nbformat": 4
 },
 "nbformat": 4,
 "nbformat_minor": 2
}
